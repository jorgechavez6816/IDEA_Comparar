{
 "cells": [
  {
   "cell_type": "code",
   "execution_count": null,
   "metadata": {},
   "outputs": [],
   "source": [
    "import win32com.client as win32ComClient\n",
    "\n",
    "if __name__ == \"__main__\":\n",
    "    try:\n",
    "        dbName = \"Ejemplo-Detalle de ventas.IMD\"\n",
    "        idea = win32ComClient.Dispatch(dispatch=\"Idea.IdeaClient\")\n",
    "        db = idea.OpenDatabase(dbName)\n",
    "\n",
    "        task = db.CompareDB()\n",
    "        task.AddMatchKey(\"NUM_FACT\", \"NUM_FACT\", \"A\")\n",
    "        \n",
    "        resultDbName = \"Comparar_01.IMD\"\n",
    "        task.PerformTask(resultDbName, \"\", \"TOTAL\", \"TOTAL\", \"Ejemplox-Detalle de ventas.IMD\")\n",
    "    finally:\n",
    "        task = None\n",
    "        db = None\n",
    "        idea = None\n"
   ]
  }
 ],
 "metadata": {
  "kernelspec": {
   "display_name": "Python 3",
   "language": "python",
   "name": "python3"
  },
  "language_info": {
   "codemirror_mode": {
    "name": "ipython",
    "version": 3
   },
   "file_extension": ".py",
   "mimetype": "text/x-python",
   "name": "python",
   "nbconvert_exporter": "python",
   "pygments_lexer": "ipython3",
   "version": "3.7.6"
  }
 },
 "nbformat": 4,
 "nbformat_minor": 4
}
